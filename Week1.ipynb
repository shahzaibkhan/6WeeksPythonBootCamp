{
  "nbformat": 4,
  "nbformat_minor": 0,
  "metadata": {
    "colab": {
      "provenance": [],
      "authorship_tag": "ABX9TyOeQDHA141DyQmCK28w8bQr",
      "include_colab_link": true
    },
    "kernelspec": {
      "name": "python3",
      "display_name": "Python 3"
    },
    "language_info": {
      "name": "python"
    }
  },
  "cells": [
    {
      "cell_type": "markdown",
      "metadata": {
        "id": "view-in-github",
        "colab_type": "text"
      },
      "source": [
        "<a href=\"https://colab.research.google.com/github/shahzaibkhan/6WeeksPythonBootCamp/blob/main/Week1.ipynb\" target=\"_parent\"><img src=\"https://colab.research.google.com/assets/colab-badge.svg\" alt=\"Open In Colab\"/></a>"
      ]
    },
    {
      "cell_type": "code",
      "execution_count": null,
      "metadata": {
        "colab": {
          "base_uri": "https://localhost:8080/"
        },
        "id": "CD3dmZUiyZOT",
        "outputId": "0674fbd7-c7ac-4f9d-caa6-855fa9ab5218"
      },
      "outputs": [
        {
          "output_type": "stream",
          "name": "stdout",
          "text": [
            "Hello World!\n"
          ]
        }
      ],
      "source": [
        "print(\"Hello World!\")"
      ]
    },
    {
      "cell_type": "code",
      "source": [
        "name = \"Shahzaib Khan\" # declaring variable for name\n",
        "hobby = \"Coding\" # declaring variable for hobby\n",
        "\n",
        "# output strings\n",
        "print(name)\n",
        "print(hobby)"
      ],
      "metadata": {
        "colab": {
          "base_uri": "https://localhost:8080/"
        },
        "id": "QzHvcxbT0NlD",
        "outputId": "1e84c069-81f5-4493-fbf8-0adfa0180a76"
      },
      "execution_count": null,
      "outputs": [
        {
          "output_type": "stream",
          "name": "stdout",
          "text": [
            "Shahzaib Khan\n",
            "Coding\n"
          ]
        }
      ]
    },
    {
      "cell_type": "code",
      "source": [
        "# Integer\n",
        "num = 10\n",
        "\n",
        "# Float\n",
        "price = 99.99\n",
        "\n",
        "# String\n",
        "message = \"Hello, World!\"\n",
        "\n",
        "# Boolean\n",
        "is_active = True\n",
        "\n",
        "# List\n",
        "numbers = [1, 2, 3, 4, 5]\n",
        "\n",
        "# Tuple\n",
        "coordinates = (10, 20)\n",
        "\n",
        "# Dictionary\n",
        "person = {\"name\": \"John Doe\", \"age\": 25}\n",
        "\n",
        "# Set\n",
        "unique_numbers = {1, 2, 3, 4}\n",
        "\n",
        "# None\n",
        "result = None\n",
        "\n",
        "# Getting the type of variables\n",
        "print((num)) # Output: <class 'int'>\n",
        "\n",
        "print((price)) # Output: <class 'float'>\n",
        "\n",
        "print((message)) # Output: <class 'str'>\n",
        "\n",
        "print((is_active)) # Output: <class 'bool'>\n",
        "\n",
        "print((numbers)) # Output: <class 'list'>\n",
        "\n",
        "print((coordinates)) # Output: <class 'tuple'>\n",
        "\n",
        "print((person)) # Output: <class 'dict'>\n",
        "\n",
        "print((unique_numbers)) # Output: <class 'set'>\n",
        "\n",
        "print((result)) # Output: <class 'NoneType'>"
      ],
      "metadata": {
        "colab": {
          "base_uri": "https://localhost:8080/"
        },
        "id": "DmyDbXZ40kb7",
        "outputId": "fa4d6462-2f3f-4126-84b1-b5e67fe96cfb"
      },
      "execution_count": null,
      "outputs": [
        {
          "output_type": "stream",
          "name": "stdout",
          "text": [
            "10\n",
            "99.99\n",
            "Hello, World!\n",
            "True\n",
            "[1, 2, 3, 4, 5]\n",
            "(10, 20)\n",
            "{'name': 'John Doe', 'age': 25}\n",
            "{1, 2, 3, 4}\n",
            "None\n"
          ]
        }
      ]
    },
    {
      "cell_type": "code",
      "source": [
        "x,y = 1,2\n",
        "print(x)\n",
        "print(y)\n",
        "print(x,y)"
      ],
      "metadata": {
        "colab": {
          "base_uri": "https://localhost:8080/"
        },
        "id": "11hfwy6p00JQ",
        "outputId": "4d037c54-22e7-4305-bd90-8554a20c6b47"
      },
      "execution_count": null,
      "outputs": [
        {
          "output_type": "stream",
          "name": "stdout",
          "text": [
            "1\n",
            "2\n",
            "1 2\n"
          ]
        }
      ]
    },
    {
      "cell_type": "code",
      "source": [
        "str_num = \"12\"\n",
        "num = int(str_num)\n",
        "print(num)\n",
        "\n",
        "str_float = \"12.3\"\n",
        "float_1 = float(str_float)\n",
        "print(float_1)"
      ],
      "metadata": {
        "colab": {
          "base_uri": "https://localhost:8080/"
        },
        "id": "8dlahgvQ1Jkd",
        "outputId": "4b7c570f-bc7a-426b-b3af-943a8fdc731d"
      },
      "execution_count": null,
      "outputs": [
        {
          "output_type": "stream",
          "name": "stdout",
          "text": [
            "12\n",
            "12.3\n"
          ]
        }
      ]
    }
  ]
}